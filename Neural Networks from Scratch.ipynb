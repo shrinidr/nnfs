{
 "cells": [
  {
   "cell_type": "markdown",
   "metadata": {},
   "source": [
    "Feed forward Neural Networks w/backprop and gradient descent from scratch using only Numpy and other scientific libraries in python excluding any pre-built machine learning \n",
    "libraries.\n"
   ]
  },
  {
   "cell_type": "code",
   "execution_count": 1,
   "metadata": {},
   "outputs": [],
   "source": [
    "import numpy as np\n",
    "import pandas as pd\n",
    "import plotly.express as px\n",
    "import matplotlib.pyplot as plt\n"
   ]
  },
  {
   "cell_type": "code",
   "execution_count": 23,
   "metadata": {},
   "outputs": [],
   "source": [
    "#Using Batches with 2 layers\n",
    "inputs =  np.array([[0.1,0.2,0.3,0.4],\n",
    "                    [-.12, 12, 1.1, 10.12],\n",
    "                    [1,2,3,4]])\n",
    "\n",
    "#So every row in the inputs refers to one batch or one train data.\n",
    "weights1 =  np.array([[1,2,3,4], [3,4,5,7], [7,8,9,12]])\n",
    "bias1 = np.array([0.1,0.2, 0.3])\n",
    "\n",
    "layer1_output = np.dot(inputs, weights.T) + bias1\n",
    "\n",
    "weights2 = np.array([[1,2,3], [3,4,5], [7,8,9]])\n",
    "bias2 = np.array([0.23, -0.23, 0.89])\n",
    "\n",
    "layer2_output = np.dot(layer1_output, weights2.T) + bias2\n",
    "\n",
    "#each row of summ is the weights*inputs + bias for each batch of input. "
   ]
  },
  {
   "cell_type": "code",
   "execution_count": 24,
   "metadata": {},
   "outputs": [],
   "source": [
    "#Using objects to define layers\n",
    "X = np.array([[1,2,3,2.5], \n",
    "             [2,5,-1,2],\n",
    "             [-1.5, 2.7, 3.3, -0.8]])"
   ]
  },
  {
   "cell_type": "code",
   "execution_count": 25,
   "metadata": {},
   "outputs": [
    {
     "name": "stderr",
     "output_type": "stream",
     "text": [
      "Cloning into 'nnfs'...\n",
      "warning: You appear to have cloned an empty repository.\n"
     ]
    }
   ],
   "source": [
    "!git clone git@github.com:shrinidr/nnfs.git"
   ]
  },
  {
   "cell_type": "code",
   "execution_count": 27,
   "metadata": {},
   "outputs": [
    {
     "name": "stdout",
     "output_type": "stream",
     "text": [
      "Initialized empty Git repository in C:/Users/rushi/ New Folder/.git/\n"
     ]
    }
   ],
   "source": [
    "!git init"
   ]
  },
  {
   "cell_type": "code",
   "execution_count": null,
   "metadata": {},
   "outputs": [],
   "source": [
    "!"
   ]
  }
 ],
 "metadata": {
  "kernelspec": {
   "display_name": "Python 3 (ipykernel)",
   "language": "python",
   "name": "python3"
  },
  "language_info": {
   "codemirror_mode": {
    "name": "ipython",
    "version": 3
   },
   "file_extension": ".py",
   "mimetype": "text/x-python",
   "name": "python",
   "nbconvert_exporter": "python",
   "pygments_lexer": "ipython3",
   "version": "3.8.5"
  }
 },
 "nbformat": 4,
 "nbformat_minor": 4
}
