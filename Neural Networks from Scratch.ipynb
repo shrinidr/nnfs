{
 "cells": [
  {
   "cell_type": "markdown",
   "metadata": {},
   "source": [
    "Feed forward Neural Networks w/backprop and gradient descent from scratch using only Numpy and other scientific libraries in python excluding any pre-built machine learning \n",
    "libraries.\n"
   ]
  },
  {
   "cell_type": "code",
   "execution_count": 1,
   "metadata": {},
   "outputs": [],
   "source": [
    "import numpy as np\n",
    "import pandas as pd\n",
    "import plotly.express as px\n",
    "import matplotlib.pyplot as plt\n"
   ]
  },
  {
   "cell_type": "code",
   "execution_count": 23,
   "metadata": {},
   "outputs": [],
   "source": [
    "#Using Batches with 2 layers\n",
    "inputs =  np.array([[0.1,0.2,0.3,0.4],\n",
    "                    [-.12, 12, 1.1, 10.12],\n",
    "                    [1,2,3,4]])\n",
    "\n",
    "#So every row in the inputs refers to one batch or one train data.\n",
    "weights1 =  np.array([[1,2,3,4], [3,4,5,7], [7,8,9,12]])\n",
    "bias1 = np.array([0.1,0.2, 0.3])\n",
    "\n",
    "layer1_output = np.dot(inputs, weights.T) + bias1\n",
    "\n",
    "weights2 = np.array([[1,2,3], [3,4,5], [7,8,9]])\n",
    "bias2 = np.array([0.23, -0.23, 0.89])\n",
    "\n",
    "layer2_output = np.dot(layer1_output, weights2.T) + bias2\n",
    "\n",
    "#each row of summ is the weights*inputs + bias for each batch of input. "
   ]
  },
  {
   "cell_type": "code",
   "execution_count": 24,
   "metadata": {},
   "outputs": [],
   "source": [
    "#Using objects to define layers\n",
    "X = np.array([[1,2,3,2.5], \n",
    "             [2,5,-1,2],\n",
    "             [-1.5, 2.7, 3.3, -0.8]])"
   ]
  },
  {
   "cell_type": "code",
   "execution_count": 25,
   "metadata": {},
   "outputs": [
    {
     "name": "stderr",
     "output_type": "stream",
     "text": [
      "Cloning into 'nnfs'...\n",
      "warning: You appear to have cloned an empty repository.\n"
     ]
    }
   ],
   "source": [
    "!git clone git@github.com:shrinidr/nnfs.git"
   ]
  },
  {
   "cell_type": "code",
   "execution_count": 27,
   "metadata": {},
   "outputs": [
    {
     "name": "stdout",
     "output_type": "stream",
     "text": [
      "Initialized empty Git repository in C:/Users/rushi/ New Folder/.git/\n"
     ]
    }
   ],
   "source": [
    "!git init"
   ]
  },
  {
   "cell_type": "code",
   "execution_count": 28,
   "metadata": {},
   "outputs": [
    {
     "name": "stdout",
     "output_type": "stream",
     "text": [
      "On branch master\n",
      "\n",
      "Initial commit\n",
      "\n",
      "Untracked files:\n",
      "  (use \"git add <file>...\" to include in what will be committed)\n",
      "\t.ipynb_checkpoints/\n",
      "\tAlex.ipynb\n",
      "\tAnton.ipynb\n",
      "\tCS132 Directort/\n",
      "\tDefault/\n",
      "\tFS Chapter1 Gradient Descent.ipynb\n",
      "\tFS Neural Networks.ipynb\n",
      "\tFirst Run\n",
      "\tIMDb Prediction Engine.ipynb\n",
      "\tLocal State\n",
      "\tMarkov chain Tweet Bot.ipynb\n",
      "\tNLP Disaster Class.ipynb\n",
      "\tNeural Networks from Scratch.ipynb\n",
      "\tSentiment Analysis.ipynb\n",
      "\tSpooky Author Classification Kaggle.ipynb\n",
      "\tTitanic Analysis.csv\n",
      "\tTitanic Predictions\n",
      "\tTitanic Project #1.ipynb\n",
      "\tUntitled Folder/\n",
      "\tUntitled.ipynb\n",
      "\tUntitled1.ipynb\n",
      "\tUntitled2.ipynb\n",
      "\tUntitled3.ipynb\n",
      "\tUntitled4.ipynb\n",
      "\tUntitled5.ipynb\n",
      "\tapex.csv\n",
      "\tawdo part2.ipynb\n",
      "\tcatboost_info/\n",
      "\teigenfaces.ipynb\n",
      "\tneura analysis.ipynb\n",
      "\tnlp prediction file\n",
      "\tnlp submissions.csv\n",
      "\tnnfs/\n",
      "\tsenti_final_data.csv\n",
      "\tsubmissions\n",
      "\tsubmissions.csv\n",
      "\tuntitled.txt\n",
      "\n",
      "nothing added to commit but untracked files present (use \"git add\" to track)\n"
     ]
    }
   ],
   "source": [
    "!git commit -m \"init\""
   ]
  },
  {
   "cell_type": "code",
   "execution_count": 30,
   "metadata": {},
   "outputs": [
    {
     "name": "stderr",
     "output_type": "stream",
     "text": [
      "warning: in the working copy of 'Neural Networks from Scratch.ipynb', LF will be replaced by CRLF the next time Git touches it\n"
     ]
    }
   ],
   "source": [
    "!git add \"Neural Networks from Scratch.ipynb\""
   ]
  },
  {
   "cell_type": "code",
   "execution_count": 31,
   "metadata": {},
   "outputs": [
    {
     "name": "stdout",
     "output_type": "stream",
     "text": [
      "[master (root-commit) 628511d] init\n",
      " 1 file changed, 126 insertions(+)\n",
      " create mode 100644 Neural Networks from Scratch.ipynb\n"
     ]
    }
   ],
   "source": [
    "!git commit -m \"init\""
   ]
  },
  {
   "cell_type": "code",
   "execution_count": null,
   "metadata": {},
   "outputs": [],
   "source": [
    "!git commit -m \"first commit\""
   ]
  },
  {
   "cell_type": "code",
   "execution_count": null,
   "metadata": {},
   "outputs": [],
   "source": []
  }
 ],
 "metadata": {
  "kernelspec": {
   "display_name": "Python 3 (ipykernel)",
   "language": "python",
   "name": "python3"
  },
  "language_info": {
   "codemirror_mode": {
    "name": "ipython",
    "version": 3
   },
   "file_extension": ".py",
   "mimetype": "text/x-python",
   "name": "python",
   "nbconvert_exporter": "python",
   "pygments_lexer": "ipython3",
   "version": "3.8.5"
  }
 },
 "nbformat": 4,
 "nbformat_minor": 4
}
